{
  "nbformat": 4,
  "nbformat_minor": 0,
  "metadata": {
    "colab": {
      "provenance": [],
      "authorship_tag": "ABX9TyOQvHZUgC2cCNuP85HEn+A2",
      "include_colab_link": true
    },
    "kernelspec": {
      "name": "python3",
      "display_name": "Python 3"
    },
    "language_info": {
      "name": "python"
    }
  },
  "cells": [
    {
      "cell_type": "markdown",
      "metadata": {
        "id": "view-in-github",
        "colab_type": "text"
      },
      "source": [
        "<a href=\"https://colab.research.google.com/github/ertgrulyksk/Deep-Learning-Projects-With-Keras-TensorFlow-PyTorch/blob/main/Noise_Cancellation_with_Autocodes_Encoded_Decoded.ipynb\" target=\"_parent\"><img src=\"https://colab.research.google.com/assets/colab-badge.svg\" alt=\"Open In Colab\"/></a>"
      ]
    },
    {
      "cell_type": "code",
      "execution_count": 1,
      "metadata": {
        "colab": {
          "base_uri": "https://localhost:8080/"
        },
        "id": "nFh5tgknqT11",
        "outputId": "ec43ada8-1f40-4b16-e601-6f677c5d7b10"
      },
      "outputs": [
        {
          "output_type": "stream",
          "name": "stdout",
          "text": [
            "Mounted at /gdrive\n",
            "/gdrive\n"
          ]
        }
      ],
      "source": [
        "from google.colab import drive\n",
        "drive.mount('/gdrive')\n",
        "%cd /gdrive"
      ]
    },
    {
      "cell_type": "code",
      "source": [
        "from keras.layers import Input, Dense, Conv2D, MaxPooling2D, UpSampling2D\n",
        "from keras.models import Model\n",
        "from keras.callbacks import TensorBoard\n",
        "from keras.datasets import mnist\n",
        "import numpy as np\n",
        "from keras import backend as K\n",
        "import matplotlib.pyplot as plt"
      ],
      "metadata": {
        "id": "Y7pq65oBq_eR"
      },
      "execution_count": 2,
      "outputs": []
    },
    {
      "cell_type": "code",
      "source": [
        "(x_train, _), (x_test, _) = mnist.load_data()"
      ],
      "metadata": {
        "colab": {
          "base_uri": "https://localhost:8080/"
        },
        "id": "RI6K2OXUrn2Q",
        "outputId": "bef23b7f-91c6-416f-a524-5da3b8f73bff"
      },
      "execution_count": 3,
      "outputs": [
        {
          "output_type": "stream",
          "name": "stdout",
          "text": [
            "Downloading data from https://storage.googleapis.com/tensorflow/tf-keras-datasets/mnist.npz\n",
            "11490434/11490434 [==============================] - 0s 0us/step\n"
          ]
        }
      ]
    },
    {
      "cell_type": "code",
      "source": [
        "x_train = x_train.astype('float32') / 255\n",
        "x_test = x_test.astype('float32') / 255\n",
        "\n",
        "x_train = np.reshape (x_train, (len(x_train), 28, 28, 1))\n",
        "x_test =  np.reshape (x_test, (len(x_test), 28, 28, 1))"
      ],
      "metadata": {
        "id": "lG1VHzNQrpRv"
      },
      "execution_count": 4,
      "outputs": []
    },
    {
      "cell_type": "code",
      "source": [
        "print('Eğtiim',x_train.shape)\n",
        "print('Test', x_test.shape)"
      ],
      "metadata": {
        "colab": {
          "base_uri": "https://localhost:8080/"
        },
        "id": "ozEiekjTrr38",
        "outputId": "f97d9ee6-d908-490f-acbe-98893a557a02"
      },
      "execution_count": 5,
      "outputs": [
        {
          "output_type": "stream",
          "name": "stdout",
          "text": [
            "Eğtiim (60000, 28, 28, 1)\n",
            "Test (10000, 28, 28, 1)\n"
          ]
        }
      ]
    },
    {
      "cell_type": "code",
      "source": [
        "noise_factor=0.5"
      ],
      "metadata": {
        "id": "33aV8cPurv07"
      },
      "execution_count": 6,
      "outputs": []
    },
    {
      "cell_type": "code",
      "source": [
        "x_train_noisy = x_train + noise_factor * np.random.normal(loc = 0.0, scale = 1.0, size = x_train.shape)\n",
        "x_test_noisy = x_test + noise_factor * np.random.normal(loc = 0.0, scale = 1.0, size = x_test.shape)\n",
        "\n",
        "x_train_noisy = np.clip(x_train_noisy, 0. ,1.)\n",
        "x_test_noisy = np.clip(x_test_noisy, 0. ,1.)"
      ],
      "metadata": {
        "id": "_6-cX-vZrxHR"
      },
      "execution_count": 7,
      "outputs": []
    },
    {
      "cell_type": "code",
      "source": [
        "n = 10\n",
        "\n",
        "plt.figure(figsize = (25,4))\n",
        "\n",
        "for i in range(n):\n",
        "  ax = plt.subplot(2, n, i+1)\n",
        "  plt.imshow(x_test_noisy[i].reshape(28,28))\n",
        "  plt.gray()\n",
        "  ax.get_xaxis().set_visible(False)\n",
        "  ax.get_yaxis().set_visible(False)\n",
        "plt.show()"
      ],
      "metadata": {
        "colab": {
          "base_uri": "https://localhost:8080/",
          "height": 98
        },
        "id": "UJPqfyuWryo7",
        "outputId": "c3728898-bd0d-4b21-cffd-6ad2131dea86"
      },
      "execution_count": 8,
      "outputs": [
        {
          "output_type": "display_data",
          "data": {
            "text/plain": [
              "<Figure size 1800x288 with 10 Axes>"
            ],
            "image/png": "[encoded data removed]"
          },
          "metadata": {
            "needs_background": "light"
          }
        }
      ]
    },
    {
      "cell_type": "code",
      "source": [
        "input_img = Input(shape = (28, 28, 1))\n",
        "\n",
        "x = Conv2D(32, (3,3), activation='relu', padding='same')(input_img)\n",
        "\n",
        "x = MaxPooling2D((2,2), padding='same')(x)\n",
        "\n",
        "x = Conv2D(32, (3,3), activation='relu', padding='same')(x)\n",
        "\n",
        "encoded = MaxPooling2D((2,2), padding='same')(x)"
      ],
      "metadata": {
        "id": "Z4ebEyZPr0O1"
      },
      "execution_count": 9,
      "outputs": []
    },
    {
      "cell_type": "code",
      "source": [
        "x = Conv2D(32, (3,3), activation='relu', padding='same')(encoded)\n",
        "\n",
        "x = UpSampling2D((2,2))(x)\n",
        "\n",
        "x = Conv2D(32, (3,3), activation='relu', padding='same')(x)\n",
        "\n",
        "x = UpSampling2D((2,2))(x)\n",
        "\n",
        "decoded = Conv2D(1, (3,3), activation='sigmoid', padding='same')(x)"
      ],
      "metadata": {
        "id": "IKAg4ECcr2fh"
      },
      "execution_count": 10,
      "outputs": []
    },
    {
      "cell_type": "code",
      "source": [
        "autoencoder = Model(input_img, decoded)\n",
        "autoencoder.compile(optimizer='adadelta', loss='binary_crossentropy')"
      ],
      "metadata": {
        "id": "6t8P1CoFr3pT"
      },
      "execution_count": 11,
      "outputs": []
    },
    {
      "cell_type": "code",
      "source": [
        "autoencoder.fit(x_train_noisy, x_train,\n",
        "                epochs=10,\n",
        "                batch_size=128,\n",
        "                shuffle=True,\n",
        "                validation_data=(x_test_noisy, x_test),\n",
        "                callbacks=[TensorBoard(log_dir='/tmp/tb', histogram_freq=0, write_graph=False)])"
      ],
      "metadata": {
        "colab": {
          "base_uri": "https://localhost:8080/"
        },
        "id": "Udtl-m96r40A",
        "outputId": "7106f7f2-aa42-4da7-fb98-4e49947f259a"
      },
      "execution_count": 12,
      "outputs": [
        {
          "output_type": "stream",
          "name": "stdout",
          "text": [
            "Epoch 1/10\n",
            "469/469 [==============================] - 178s 376ms/step - loss: 0.6663 - val_loss: 0.6511\n",
            "Epoch 2/10\n",
            "469/469 [==============================] - 181s 386ms/step - loss: 0.6220 - val_loss: 0.5851\n",
            "Epoch 3/10\n",
            "469/469 [==============================] - 185s 395ms/step - loss: 0.5420 - val_loss: 0.5151\n",
            "Epoch 4/10\n",
            "469/469 [==============================] - 183s 391ms/step - loss: 0.5038 - val_loss: 0.5018\n",
            "Epoch 5/10\n",
            "469/469 [==============================] - 174s 371ms/step - loss: 0.4936 - val_loss: 0.4925\n",
            "Epoch 6/10\n",
            "469/469 [==============================] - 175s 372ms/step - loss: 0.4841 - val_loss: 0.4827\n",
            "Epoch 7/10\n",
            "469/469 [==============================] - 170s 362ms/step - loss: 0.4739 - val_loss: 0.4719\n",
            "Epoch 8/10\n",
            "469/469 [==============================] - 180s 384ms/step - loss: 0.4625 - val_loss: 0.4594\n",
            "Epoch 9/10\n",
            "469/469 [==============================] - 176s 374ms/step - loss: 0.4490 - val_loss: 0.4444\n",
            "Epoch 10/10\n",
            "469/469 [==============================] - 172s 368ms/step - loss: 0.4324 - val_loss: 0.4257\n"
          ]
        },
        {
          "output_type": "execute_result",
          "data": {
            "text/plain": [
              "<keras.callbacks.History at 0x7f84a5fc59d0>"
            ]
          },
          "metadata": {},
          "execution_count": 12
        }
      ]
    },
    {
      "cell_type": "code",
      "source": [
        "decoded_imgs = autoencoder.predict(x_test)"
      ],
      "metadata": {
        "colab": {
          "base_uri": "https://localhost:8080/"
        },
        "id": "w2IIJBdxr6Gy",
        "outputId": "6abe2036-6774-472a-d646-14add121f84e"
      },
      "execution_count": 13,
      "outputs": [
        {
          "output_type": "stream",
          "name": "stdout",
          "text": [
            "313/313 [==============================] - 6s 20ms/step\n"
          ]
        }
      ]
    },
    {
      "cell_type": "code",
      "source": [
        "%matplotlib inline\n",
        "n=10\n",
        "\n",
        "plt.figure(figsize=(25,4))\n",
        "for i in range(n):\n",
        "  ax=plt.subplot(2,n,i+1)\n",
        "  plt.imshow(decoded_imgs[i].reshape(28,28))\n",
        "  plt.gray()\n",
        "  ax.get_xaxis().set_visible(False)\n",
        "  ax.get_yaxis().set_visible(False)\n",
        "plt.show()"
      ],
      "metadata": {
        "colab": {
          "base_uri": "https://localhost:8080/",
          "height": 98
        },
        "id": "-0e16L5wuObW",
        "outputId": "4f2da85e-d8b6-411d-c17c-1c6fd83277a3"
      },
      "execution_count": 14,
      "outputs": [
        {
          "output_type": "display_data",
          "data": {
            "text/plain": [
              "<Figure size 1800x288 with 10 Axes>"
            ],
            "image/png": "[encoded data removed]"
          },
          "metadata": {
            "needs_background": "light"
          }
        }
      ]
    }
  ]
}